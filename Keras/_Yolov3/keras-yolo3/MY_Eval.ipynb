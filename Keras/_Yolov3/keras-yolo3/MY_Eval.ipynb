{
 "cells": [
  {
   "cell_type": "code",
   "execution_count": 1,
   "metadata": {},
   "outputs": [
    {
     "name": "stderr",
     "output_type": "stream",
     "text": [
      "Using TensorFlow backend.\n",
      "/home/ehsan/anaconda3/envs/yolo/lib/python3.6/site-packages/tensorflow/python/framework/dtypes.py:523: FutureWarning: Passing (type, 1) or '1type' as a synonym of type is deprecated; in a future version of numpy, it will be understood as (type, (1,)) / '(1,)type'.\n",
      "  _np_qint8 = np.dtype([(\"qint8\", np.int8, 1)])\n",
      "/home/ehsan/anaconda3/envs/yolo/lib/python3.6/site-packages/tensorflow/python/framework/dtypes.py:524: FutureWarning: Passing (type, 1) or '1type' as a synonym of type is deprecated; in a future version of numpy, it will be understood as (type, (1,)) / '(1,)type'.\n",
      "  _np_quint8 = np.dtype([(\"quint8\", np.uint8, 1)])\n",
      "/home/ehsan/anaconda3/envs/yolo/lib/python3.6/site-packages/tensorflow/python/framework/dtypes.py:525: FutureWarning: Passing (type, 1) or '1type' as a synonym of type is deprecated; in a future version of numpy, it will be understood as (type, (1,)) / '(1,)type'.\n",
      "  _np_qint16 = np.dtype([(\"qint16\", np.int16, 1)])\n",
      "/home/ehsan/anaconda3/envs/yolo/lib/python3.6/site-packages/tensorflow/python/framework/dtypes.py:526: FutureWarning: Passing (type, 1) or '1type' as a synonym of type is deprecated; in a future version of numpy, it will be understood as (type, (1,)) / '(1,)type'.\n",
      "  _np_quint16 = np.dtype([(\"quint16\", np.uint16, 1)])\n",
      "/home/ehsan/anaconda3/envs/yolo/lib/python3.6/site-packages/tensorflow/python/framework/dtypes.py:527: FutureWarning: Passing (type, 1) or '1type' as a synonym of type is deprecated; in a future version of numpy, it will be understood as (type, (1,)) / '(1,)type'.\n",
      "  _np_qint32 = np.dtype([(\"qint32\", np.int32, 1)])\n",
      "/home/ehsan/anaconda3/envs/yolo/lib/python3.6/site-packages/tensorflow/python/framework/dtypes.py:532: FutureWarning: Passing (type, 1) or '1type' as a synonym of type is deprecated; in a future version of numpy, it will be understood as (type, (1,)) / '(1,)type'.\n",
      "  np_resource = np.dtype([(\"resource\", np.ubyte, 1)])\n"
     ]
    }
   ],
   "source": [
    "import argparse\n",
    "import os\n",
    "import numpy as np\n",
    "import json\n",
    "from voc import parse_voc_annotation\n",
    "from yolo import create_yolov3_model\n",
    "from generator import BatchGenerator\n",
    "from utils.utils import normalize, evaluate\n",
    "from keras.callbacks import EarlyStopping, ModelCheckpoint\n",
    "from keras.optimizers import Adam\n",
    "from keras.models import load_model"
   ]
  },
  {
   "cell_type": "code",
   "execution_count": 10,
   "metadata": {},
   "outputs": [],
   "source": [
    "def _main_(args):\n",
    "    #config_path = args.conf\n",
    "    config_path = args\n",
    "\n",
    "    with open(config_path) as config_buffer:    \n",
    "        config = json.loads(config_buffer.read())\n",
    "\n",
    "    ###############################\n",
    "    #   Create the validation generator\n",
    "    ###############################  \n",
    "    valid_ints, labels = parse_voc_annotation(\n",
    "        config['valid']['valid_annot_folder'], \n",
    "        config['valid']['valid_image_folder'], \n",
    "        config['valid']['cache_name'],\n",
    "        config['model']['labels']\n",
    "    )\n",
    "\n",
    "    labels = labels.keys() if len(config['model']['labels']) == 0 else config['model']['labels']\n",
    "    labels = sorted(labels)\n",
    "   \n",
    "    valid_generator = BatchGenerator(\n",
    "        instances           = valid_ints, \n",
    "        anchors             = config['model']['anchors'],   \n",
    "        labels              = labels,        \n",
    "        downsample          = 32, # ratio between network input's size and network output's size, 32 for YOLOv3\n",
    "        max_box_per_image   = 0,\n",
    "        batch_size          = config['valid']['batch_size'],\n",
    "        min_net_size        = config['model']['min_input_size'],\n",
    "        max_net_size        = config['model']['max_input_size'],   \n",
    "        shuffle             = True, \n",
    "        jitter              = 0.0, \n",
    "        norm                = normalize\n",
    "    )\n",
    "\n",
    "    ###############################\n",
    "    #   Load the model and do evaluation\n",
    "    ###############################\n",
    "    os.environ['CUDA_VISIBLE_DEVICES'] = config['valid']['gpus']\n",
    "\n",
    "    infer_model = load_model(config['valid']['saved_weights_name'])\n",
    "\n",
    "    # compute mAP for all the classes\n",
    "    average_precisions = evaluate(infer_model, valid_generator)\n",
    "\n",
    "    # print the score\n",
    "    for label, average_precision in average_precisions.items():\n",
    "        print(labels[label] + ': {:.4f}'.format(average_precision))\n",
    "    print('mAP: {:.4f}'.format(sum(average_precisions.values()) / len(average_precisions)))   "
   ]
  },
  {
   "cell_type": "code",
   "execution_count": 11,
   "metadata": {},
   "outputs": [
    {
     "name": "stdout",
     "output_type": "stream",
     "text": [
      "aeroplane: 0.0000\n",
      "apple: 0.0000\n",
      "backpack: 0.0000\n",
      "banana: 0.0000\n",
      "baseball bat: 0.0000\n",
      "baseball glove: 0.0000\n",
      "bear: 0.0000\n",
      "bed: 0.0000\n",
      "bench: 0.0000\n",
      "bicycle: 0.0000\n",
      "bird: 0.0000\n",
      "boat: 0.0000\n",
      "book: 0.0000\n",
      "bottle: 0.0000\n",
      "bowl: 0.0000\n",
      "broccoli: 0.0000\n",
      "bus: 0.0000\n",
      "cake: 0.0000\n",
      "car: 0.0000\n",
      "carrot: 0.0000\n",
      "cat: 0.0000\n",
      "cell phone: 0.0000\n",
      "chair: 0.0000\n",
      "clock: 0.0000\n",
      "cow: 0.0000\n",
      "cup: 0.0000\n",
      "diningtable: 0.0000\n",
      "dog: 0.0000\n",
      "donut: 0.0000\n",
      "elephant: 0.0000\n",
      "fire hydrant: 0.0000\n",
      "fork: 0.0000\n",
      "frisbee: 0.0000\n",
      "giraffe: 0.0000\n",
      "hair drier: 0.0000\n",
      "handbag: 0.0000\n",
      "horse: 0.0000\n",
      "hot dog: 0.0000\n",
      "keyboard: 0.0000\n",
      "kite: 0.0000\n",
      "knife: 0.0000\n",
      "laptop: 0.0000\n",
      "microwave: 0.0000\n",
      "motorbike: 0.0000\n",
      "mouse: 0.0000\n",
      "orange: 0.0000\n",
      "oven: 0.0000\n",
      "parking meter: 0.0000\n",
      "person: 0.0000\n",
      "pizza: 0.0000\n",
      "pottedplant: 0.0000\n",
      "refrigerator: 0.0000\n",
      "remote: 0.0000\n",
      "sandwich: 0.0000\n",
      "scissors: 0.0000\n",
      "sheep: 0.0000\n",
      "sink: 0.0000\n",
      "skateboard: 0.0000\n",
      "skis: 0.0000\n",
      "snowboard: 0.0000\n",
      "sofa: 0.0000\n",
      "spoon: 0.0000\n",
      "sports ball: 0.0000\n",
      "stop sign: 0.0000\n",
      "suitcase: 0.0000\n",
      "surfboard: 0.0000\n",
      "teddy bear: 0.0000\n",
      "tennis racket: 0.0000\n",
      "tie: 0.0000\n",
      "toaster: 0.0000\n",
      "toilet: 0.0000\n",
      "toothbrush: 0.0000\n",
      "traffic light: 0.0000\n",
      "train: 0.0000\n",
      "truck: 0.0000\n",
      "tvmonitor: 0.0000\n",
      "umbrella: 0.0000\n",
      "vase: 0.0000\n",
      "wine glass: 0.0000\n",
      "zebra: 0.0000\n",
      "mAP: 0.0000\n"
     ]
    },
    {
     "name": "stderr",
     "output_type": "stream",
     "text": [
      "/home/ehsan/anaconda3/envs/yolo/lib/python3.6/site-packages/keras/engine/saving.py:292: UserWarning: No training configuration found in save file: the model was *not* compiled. Compile it manually.\n",
      "  warnings.warn('No training configuration found in save file: '\n"
     ]
    }
   ],
   "source": [
    "args='config_coco.json'\n",
    "_main_(args)"
   ]
  },
  {
   "cell_type": "code",
   "execution_count": null,
   "metadata": {},
   "outputs": [],
   "source": [
    "if __name__ == '__main__':\n",
    "    argparser = argparse.ArgumentParser(description='Evaluate YOLO_v3 model on any dataset')\n",
    "    argparser.add_argument('-c', '--conf', help='path to configuration file')    \n",
    "    \n",
    "    args = argparser.parse_args()\n",
    "    _main_(args)"
   ]
  }
 ],
 "metadata": {
  "kernelspec": {
   "display_name": "Python 3",
   "language": "python",
   "name": "python3"
  },
  "language_info": {
   "codemirror_mode": {
    "name": "ipython",
    "version": 3
   },
   "file_extension": ".py",
   "mimetype": "text/x-python",
   "name": "python",
   "nbconvert_exporter": "python",
   "pygments_lexer": "ipython3",
   "version": "3.8.10"
  },
  "vscode": {
   "interpreter": {
    "hash": "30a4a38824aecb2ea03aa4df66d2cdcd9b269d7a636d811330742db328a4a2bd"
   }
  }
 },
 "nbformat": 4,
 "nbformat_minor": 4
}
